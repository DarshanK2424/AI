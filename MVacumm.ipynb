{
 "cells": [
  {
   "cell_type": "code",
   "execution_count": 1,
   "id": "e7cadb39-3cf6-4095-8571-1c1d2944ada0",
   "metadata": {},
   "outputs": [],
   "source": [
    "import random"
   ]
  },
  {
   "cell_type": "code",
   "execution_count": 10,
   "id": "b88b3411-1875-4181-8d1a-4aa4b0268a51",
   "metadata": {},
   "outputs": [],
   "source": [
    "room=[ [1,1,1,1],[1,1,1,1],[1,1,1,1],[1,1,1,1]]"
   ]
  },
  {
   "cell_type": "code",
   "execution_count": 19,
   "id": "7f8a4372-418d-4438-8b40-e98e7b98ea20",
   "metadata": {},
   "outputs": [
    {
     "name": "stdout",
     "output_type": "stream",
     "text": [
      "All the rooms are dirty\n"
     ]
    }
   ],
   "source": [
    "print(\"All the rooms are dirty\")"
   ]
  },
  {
   "cell_type": "code",
   "execution_count": 21,
   "id": "f29e6e80-7396-4720-b982-2523ccdad1f0",
   "metadata": {},
   "outputs": [
    {
     "data": {
      "text/plain": [
       "[[1, 1, 1, 1], [1, 1, 1, 1], [1, 1, 1, 1], [1, 1, 1, 1]]"
      ]
     },
     "metadata": {},
     "output_type": "display_data"
    }
   ],
   "source": [
    "display(room)"
   ]
  },
  {
   "cell_type": "code",
   "execution_count": 23,
   "id": "51468f97-ce96-4910-8316-716691f560ca",
   "metadata": {},
   "outputs": [],
   "source": [
    "x=0\n",
    "y=0"
   ]
  },
  {
   "cell_type": "code",
   "execution_count": 25,
   "id": "48ca1b00-fba3-4939-98ae-3d89bf1fcc18",
   "metadata": {},
   "outputs": [],
   "source": [
    "while x<4:\n",
    "    while y<4:\n",
    "        room[x][y]=random.choice([0,1])\n",
    "        y+=1\n",
    "    x+=1\n",
    "    y=0"
   ]
  },
  {
   "cell_type": "code",
   "execution_count": 27,
   "id": "eff11729-d20c-4fd8-8631-ebcc6e84b2c2",
   "metadata": {},
   "outputs": [
    {
     "name": "stdout",
     "output_type": "stream",
     "text": [
      "Before cleaning the room,I detect all of these random dirts\n"
     ]
    },
    {
     "data": {
      "text/plain": [
       "[[1, 0, 1, 0], [1, 1, 1, 1], [0, 0, 0, 0], [0, 0, 0, 0]]"
      ]
     },
     "metadata": {},
     "output_type": "display_data"
    }
   ],
   "source": [
    "print(\"Before cleaning the room,I detect all of these random dirts\")\n",
    "display(room)"
   ]
  },
  {
   "cell_type": "code",
   "execution_count": 29,
   "id": "0af5b15e-4a83-4840-9afc-778de78b07d4",
   "metadata": {},
   "outputs": [],
   "source": [
    "x=0\n",
    "y=0\n",
    "z=0"
   ]
  },
  {
   "cell_type": "code",
   "execution_count": 33,
   "id": "da63cc83-d19d-4dcf-88ae-37ff868e4da0",
   "metadata": {},
   "outputs": [
    {
     "name": "stdout",
     "output_type": "stream",
     "text": [
      "Vaccum in this location now: 0 0\n",
      "Cleaned: 0 0\n",
      "Vaccum in this location now: 0 2\n",
      "Cleaned: 0 2\n",
      "Vaccum in this location now: 1 0\n",
      "Cleaned: 1 0\n",
      "Vaccum in this location now: 1 1\n",
      "Cleaned: 1 1\n",
      "Vaccum in this location now: 1 2\n",
      "Cleaned: 1 2\n",
      "Vaccum in this location now: 1 3\n",
      "Cleaned: 1 3\n"
     ]
    }
   ],
   "source": [
    "while x<4:\n",
    "    while y<4:\n",
    "        if room[x][y]==1:\n",
    "            print(\"Vaccum in this location now:\",x,y)\n",
    "            room[x][y]=0\n",
    "            print(\"Cleaned:\",x,y)\n",
    "            z+=1\n",
    "        y+=1\n",
    "    x+=1\n",
    "    y=0"
   ]
  },
  {
   "cell_type": "code",
   "execution_count": 131,
   "id": "8409078b-8b64-4135-a398-29243fa89500",
   "metadata": {},
   "outputs": [
    {
     "name": "stdout",
     "output_type": "stream",
     "text": [
      "Room is clean now.Thanks for using the Robot Vacuum Cleaner!\n"
     ]
    },
    {
     "data": {
      "text/plain": [
       "[[0, 0, 0, 0], [0, 0, 0, 0], [0, 0, 0, 0], [0, 0, 0, 0]]"
      ]
     },
     "metadata": {},
     "output_type": "display_data"
    },
    {
     "name": "stdout",
     "output_type": "stream",
     "text": [
      "Performance= 62.5 %\n"
     ]
    }
   ],
   "source": [
    "performance=(100-((z/16)*100))\n",
    "print(\"Room is clean now.Thanks for using the Robot Vacuum Cleaner!\")\n",
    "display(room)\n",
    "print('Performance=',performance,'%')"
   ]
  },
  {
   "cell_type": "code",
   "execution_count": null,
   "id": "e59ae034-9423-4176-bbf1-d3819b2f6e4a",
   "metadata": {},
   "outputs": [],
   "source": []
  }
 ],
 "metadata": {
  "kernelspec": {
   "display_name": "Python [conda env:base] *",
   "language": "python",
   "name": "conda-base-py"
  },
  "language_info": {
   "codemirror_mode": {
    "name": "ipython",
    "version": 3
   },
   "file_extension": ".py",
   "mimetype": "text/x-python",
   "name": "python",
   "nbconvert_exporter": "python",
   "pygments_lexer": "ipython3",
   "version": "3.12.4"
  }
 },
 "nbformat": 4,
 "nbformat_minor": 5
}
