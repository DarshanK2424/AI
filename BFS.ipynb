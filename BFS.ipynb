{
 "cells": [
  {
   "cell_type": "code",
   "execution_count": 3,
   "id": "8b66142a-995e-4f14-8099-0f32ae95f15d",
   "metadata": {},
   "outputs": [],
   "source": [
    "graph={\n",
    "        'A':['B','C'],\n",
    "        'B':['D','E'],\n",
    "        'C':['F'],\n",
    "        'D':[],\n",
    "        'E':[],\n",
    "        'F':[]\n",
    "}"
   ]
  },
  {
   "cell_type": "code",
   "execution_count": 1,
   "id": "e8ffee0c-6b2b-4dec-a2c5-3ec4c0cbf3b2",
   "metadata": {},
   "outputs": [],
   "source": [
    "from collections import deque"
   ]
  },
  {
   "cell_type": "code",
   "execution_count": 11,
   "id": "efe8eb80-6ef7-4233-9127-aa304bc40d7a",
   "metadata": {},
   "outputs": [],
   "source": [
    "def bfs(graph,start_node):\n",
    "    visited=set()\n",
    "    queue=deque([start_node])\n",
    "    print(\"BFS Traversal Order:\")\n",
    "    while queue:\n",
    "        current_node=queue.popleft()\n",
    "\n",
    "        if current_node not in visited:\n",
    "            print(current_node,end=\"\")\n",
    "            visited.add(current_node)\n",
    "\n",
    "            for neighbor in graph[current_node]:\n",
    "                if neighbor not in visited:\n",
    "                    queue.append(neighbor)"
   ]
  },
  {
   "cell_type": "code",
   "execution_count": 13,
   "id": "8abe5884-7966-4cee-bf99-789183c5184b",
   "metadata": {},
   "outputs": [
    {
     "name": "stdout",
     "output_type": "stream",
     "text": [
      "BFS Traversal Order:\n",
      "ABCDEF"
     ]
    }
   ],
   "source": [
    "bfs(graph,'A')"
   ]
  },
  {
   "cell_type": "code",
   "execution_count": null,
   "id": "4d509c0a-3557-4501-93b5-5bde8d41bebd",
   "metadata": {},
   "outputs": [],
   "source": []
  }
 ],
 "metadata": {
  "kernelspec": {
   "display_name": "Python [conda env:base] *",
   "language": "python",
   "name": "conda-base-py"
  },
  "language_info": {
   "codemirror_mode": {
    "name": "ipython",
    "version": 3
   },
   "file_extension": ".py",
   "mimetype": "text/x-python",
   "name": "python",
   "nbconvert_exporter": "python",
   "pygments_lexer": "ipython3",
   "version": "3.12.4"
  }
 },
 "nbformat": 4,
 "nbformat_minor": 5
}
